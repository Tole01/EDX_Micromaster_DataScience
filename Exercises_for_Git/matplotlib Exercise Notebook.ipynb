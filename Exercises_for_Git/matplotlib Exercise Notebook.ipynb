{
 "cells": [
  {
   "cell_type": "markdown",
   "metadata": {
    "nbgrader": {
     "grade": false,
     "grade_id": "1",
     "locked": true,
     "schema_version": 1,
     "solution": false
    }
   },
   "source": [
    "<p style=\"font-family: Arial; font-size:3.75vw;color:purple; font-style:bold\"><br>\n",
    "matplotlib Exercise Notebook\n",
    "</p><br>"
   ]
  },
  {
   "cell_type": "markdown",
   "metadata": {
    "nbgrader": {
     "grade": false,
     "grade_id": "c2",
     "locked": true,
     "schema_version": 1,
     "solution": false
    }
   },
   "source": [
    "# Exercise Notebook Instructions\n",
    "\n",
    "### 1. Important: Only modify the cells which instruct you to modify them - leave \"do not modify\" cells alone.  \n",
    "\n",
    "The code which tests your responses assumes you have run the startup/read-only code exactly.\n",
    "\n",
    "### 2. Work through the notebook in order.\n",
    "\n",
    "Some of the steps depend on previous, so you'll want to move through the notebook in order.\n",
    "\n",
    "### 3. It is okay to use numpy libraries.\n",
    "\n",
    "You may find some of these questions are fairly straightforward to answer using built-in numpy functions.  That's totally okay - part of the point of these exercises is to familiarize you with the commonly used numpy functions.\n",
    "\n",
    "### 4. Seek help if stuck\n",
    "\n",
    "If you get stuck, don't worry!  You can either review the videos/notebooks from this week, ask in the course forums, or look to the solutions for the correct answer.  BUT, be careful about looking to the solutions too quickly.  Struggling to get the right answer is an important part of the learning process."
   ]
  },
  {
   "cell_type": "code",
   "execution_count": 1,
   "metadata": {
    "nbgrader": {
     "grade": false,
     "grade_id": "c3",
     "locked": true,
     "schema_version": 1,
     "solution": false
    }
   },
   "outputs": [],
   "source": [
    "# DO NOT MODIFY\n",
    "\n",
    "# import appropriate libraries\n",
    "\n",
    "import matplotlib.pyplot as plt\n",
    "import numpy as np\n",
    "import sqlite3\n",
    "import pandas as pd \n",
    "%matplotlib inline"
   ]
  },
  {
   "cell_type": "code",
   "execution_count": 5,
   "metadata": {
    "nbgrader": {
     "grade": false,
     "grade_id": "c2c",
     "locked": true,
     "schema_version": 1,
     "solution": false
    }
   },
   "outputs": [],
   "source": [
    "# DO NOT MODIFY\n",
    "\n",
    "# we will use this dataset for some portions of this exercise.\n",
    "# source: https://www.kaggle.com/hugomathien/soccer\n",
    "\n",
    "def get_data():\n",
    "    cnx = sqlite3.connect('C:/Users/Tole 01/Desktop/Micromaster_Data_Science/Week5-Visualization/Week-5-Exercises-2/soccer_database.sqlite')\n",
    "    df = pd.read_sql_query(\"SELECT * FROM Player_Attributes\", cnx)\n",
    "    return df\n",
    "\n",
    "df = get_data()"
   ]
  },
  {
   "cell_type": "code",
   "execution_count": 6,
   "metadata": {
    "nbgrader": {
     "grade": false,
     "grade_id": "c3c",
     "locked": true,
     "schema_version": 1,
     "solution": false
    }
   },
   "outputs": [
    {
     "data": {
      "text/html": [
       "<div>\n",
       "<style scoped>\n",
       "    .dataframe tbody tr th:only-of-type {\n",
       "        vertical-align: middle;\n",
       "    }\n",
       "\n",
       "    .dataframe tbody tr th {\n",
       "        vertical-align: top;\n",
       "    }\n",
       "\n",
       "    .dataframe thead th {\n",
       "        text-align: right;\n",
       "    }\n",
       "</style>\n",
       "<table border=\"1\" class=\"dataframe\">\n",
       "  <thead>\n",
       "    <tr style=\"text-align: right;\">\n",
       "      <th></th>\n",
       "      <th>id</th>\n",
       "      <th>player_fifa_api_id</th>\n",
       "      <th>player_api_id</th>\n",
       "      <th>overall_rating</th>\n",
       "      <th>potential</th>\n",
       "      <th>crossing</th>\n",
       "      <th>finishing</th>\n",
       "      <th>heading_accuracy</th>\n",
       "      <th>short_passing</th>\n",
       "      <th>volleys</th>\n",
       "      <th>...</th>\n",
       "      <th>vision</th>\n",
       "      <th>penalties</th>\n",
       "      <th>marking</th>\n",
       "      <th>standing_tackle</th>\n",
       "      <th>sliding_tackle</th>\n",
       "      <th>gk_diving</th>\n",
       "      <th>gk_handling</th>\n",
       "      <th>gk_kicking</th>\n",
       "      <th>gk_positioning</th>\n",
       "      <th>gk_reflexes</th>\n",
       "    </tr>\n",
       "  </thead>\n",
       "  <tbody>\n",
       "    <tr>\n",
       "      <th>count</th>\n",
       "      <td>183978.00000</td>\n",
       "      <td>183978.000000</td>\n",
       "      <td>183978.000000</td>\n",
       "      <td>183142.000000</td>\n",
       "      <td>183142.000000</td>\n",
       "      <td>183142.000000</td>\n",
       "      <td>183142.000000</td>\n",
       "      <td>183142.000000</td>\n",
       "      <td>183142.000000</td>\n",
       "      <td>181265.000000</td>\n",
       "      <td>...</td>\n",
       "      <td>181265.000000</td>\n",
       "      <td>183142.000000</td>\n",
       "      <td>183142.000000</td>\n",
       "      <td>183142.000000</td>\n",
       "      <td>181265.000000</td>\n",
       "      <td>183142.000000</td>\n",
       "      <td>183142.000000</td>\n",
       "      <td>183142.000000</td>\n",
       "      <td>183142.000000</td>\n",
       "      <td>183142.000000</td>\n",
       "    </tr>\n",
       "    <tr>\n",
       "      <th>mean</th>\n",
       "      <td>91989.50000</td>\n",
       "      <td>165671.524291</td>\n",
       "      <td>135900.617324</td>\n",
       "      <td>68.600015</td>\n",
       "      <td>73.460353</td>\n",
       "      <td>55.086883</td>\n",
       "      <td>49.921078</td>\n",
       "      <td>57.266023</td>\n",
       "      <td>62.429672</td>\n",
       "      <td>49.468436</td>\n",
       "      <td>...</td>\n",
       "      <td>57.873550</td>\n",
       "      <td>55.003986</td>\n",
       "      <td>46.772242</td>\n",
       "      <td>50.351257</td>\n",
       "      <td>48.001462</td>\n",
       "      <td>14.704393</td>\n",
       "      <td>16.063612</td>\n",
       "      <td>20.998362</td>\n",
       "      <td>16.132154</td>\n",
       "      <td>16.441439</td>\n",
       "    </tr>\n",
       "    <tr>\n",
       "      <th>std</th>\n",
       "      <td>53110.01825</td>\n",
       "      <td>53851.094769</td>\n",
       "      <td>136927.840510</td>\n",
       "      <td>7.041139</td>\n",
       "      <td>6.592271</td>\n",
       "      <td>17.242135</td>\n",
       "      <td>19.038705</td>\n",
       "      <td>16.488905</td>\n",
       "      <td>14.194068</td>\n",
       "      <td>18.256618</td>\n",
       "      <td>...</td>\n",
       "      <td>15.144086</td>\n",
       "      <td>15.546519</td>\n",
       "      <td>21.227667</td>\n",
       "      <td>21.483706</td>\n",
       "      <td>21.598778</td>\n",
       "      <td>16.865467</td>\n",
       "      <td>15.867382</td>\n",
       "      <td>21.452980</td>\n",
       "      <td>16.099175</td>\n",
       "      <td>17.198155</td>\n",
       "    </tr>\n",
       "    <tr>\n",
       "      <th>min</th>\n",
       "      <td>1.00000</td>\n",
       "      <td>2.000000</td>\n",
       "      <td>2625.000000</td>\n",
       "      <td>33.000000</td>\n",
       "      <td>39.000000</td>\n",
       "      <td>1.000000</td>\n",
       "      <td>1.000000</td>\n",
       "      <td>1.000000</td>\n",
       "      <td>3.000000</td>\n",
       "      <td>1.000000</td>\n",
       "      <td>...</td>\n",
       "      <td>1.000000</td>\n",
       "      <td>2.000000</td>\n",
       "      <td>1.000000</td>\n",
       "      <td>1.000000</td>\n",
       "      <td>2.000000</td>\n",
       "      <td>1.000000</td>\n",
       "      <td>1.000000</td>\n",
       "      <td>1.000000</td>\n",
       "      <td>1.000000</td>\n",
       "      <td>1.000000</td>\n",
       "    </tr>\n",
       "    <tr>\n",
       "      <th>25%</th>\n",
       "      <td>45995.25000</td>\n",
       "      <td>155798.000000</td>\n",
       "      <td>34763.000000</td>\n",
       "      <td>64.000000</td>\n",
       "      <td>69.000000</td>\n",
       "      <td>45.000000</td>\n",
       "      <td>34.000000</td>\n",
       "      <td>49.000000</td>\n",
       "      <td>57.000000</td>\n",
       "      <td>35.000000</td>\n",
       "      <td>...</td>\n",
       "      <td>49.000000</td>\n",
       "      <td>45.000000</td>\n",
       "      <td>25.000000</td>\n",
       "      <td>29.000000</td>\n",
       "      <td>25.000000</td>\n",
       "      <td>7.000000</td>\n",
       "      <td>8.000000</td>\n",
       "      <td>8.000000</td>\n",
       "      <td>8.000000</td>\n",
       "      <td>8.000000</td>\n",
       "    </tr>\n",
       "    <tr>\n",
       "      <th>50%</th>\n",
       "      <td>91989.50000</td>\n",
       "      <td>183488.000000</td>\n",
       "      <td>77741.000000</td>\n",
       "      <td>69.000000</td>\n",
       "      <td>74.000000</td>\n",
       "      <td>59.000000</td>\n",
       "      <td>53.000000</td>\n",
       "      <td>60.000000</td>\n",
       "      <td>65.000000</td>\n",
       "      <td>52.000000</td>\n",
       "      <td>...</td>\n",
       "      <td>60.000000</td>\n",
       "      <td>57.000000</td>\n",
       "      <td>50.000000</td>\n",
       "      <td>56.000000</td>\n",
       "      <td>53.000000</td>\n",
       "      <td>10.000000</td>\n",
       "      <td>11.000000</td>\n",
       "      <td>12.000000</td>\n",
       "      <td>11.000000</td>\n",
       "      <td>11.000000</td>\n",
       "    </tr>\n",
       "    <tr>\n",
       "      <th>75%</th>\n",
       "      <td>137983.75000</td>\n",
       "      <td>199848.000000</td>\n",
       "      <td>191080.000000</td>\n",
       "      <td>73.000000</td>\n",
       "      <td>78.000000</td>\n",
       "      <td>68.000000</td>\n",
       "      <td>65.000000</td>\n",
       "      <td>68.000000</td>\n",
       "      <td>72.000000</td>\n",
       "      <td>64.000000</td>\n",
       "      <td>...</td>\n",
       "      <td>69.000000</td>\n",
       "      <td>67.000000</td>\n",
       "      <td>66.000000</td>\n",
       "      <td>69.000000</td>\n",
       "      <td>67.000000</td>\n",
       "      <td>13.000000</td>\n",
       "      <td>15.000000</td>\n",
       "      <td>15.000000</td>\n",
       "      <td>15.000000</td>\n",
       "      <td>15.000000</td>\n",
       "    </tr>\n",
       "    <tr>\n",
       "      <th>max</th>\n",
       "      <td>183978.00000</td>\n",
       "      <td>234141.000000</td>\n",
       "      <td>750584.000000</td>\n",
       "      <td>94.000000</td>\n",
       "      <td>97.000000</td>\n",
       "      <td>95.000000</td>\n",
       "      <td>97.000000</td>\n",
       "      <td>98.000000</td>\n",
       "      <td>97.000000</td>\n",
       "      <td>93.000000</td>\n",
       "      <td>...</td>\n",
       "      <td>97.000000</td>\n",
       "      <td>96.000000</td>\n",
       "      <td>96.000000</td>\n",
       "      <td>95.000000</td>\n",
       "      <td>95.000000</td>\n",
       "      <td>94.000000</td>\n",
       "      <td>93.000000</td>\n",
       "      <td>97.000000</td>\n",
       "      <td>96.000000</td>\n",
       "      <td>96.000000</td>\n",
       "    </tr>\n",
       "  </tbody>\n",
       "</table>\n",
       "<p>8 rows × 38 columns</p>\n",
       "</div>"
      ],
      "text/plain": [
       "                 id  player_fifa_api_id  player_api_id  overall_rating  \\\n",
       "count  183978.00000       183978.000000  183978.000000   183142.000000   \n",
       "mean    91989.50000       165671.524291  135900.617324       68.600015   \n",
       "std     53110.01825        53851.094769  136927.840510        7.041139   \n",
       "min         1.00000            2.000000    2625.000000       33.000000   \n",
       "25%     45995.25000       155798.000000   34763.000000       64.000000   \n",
       "50%     91989.50000       183488.000000   77741.000000       69.000000   \n",
       "75%    137983.75000       199848.000000  191080.000000       73.000000   \n",
       "max    183978.00000       234141.000000  750584.000000       94.000000   \n",
       "\n",
       "           potential       crossing      finishing  heading_accuracy  \\\n",
       "count  183142.000000  183142.000000  183142.000000     183142.000000   \n",
       "mean       73.460353      55.086883      49.921078         57.266023   \n",
       "std         6.592271      17.242135      19.038705         16.488905   \n",
       "min        39.000000       1.000000       1.000000          1.000000   \n",
       "25%        69.000000      45.000000      34.000000         49.000000   \n",
       "50%        74.000000      59.000000      53.000000         60.000000   \n",
       "75%        78.000000      68.000000      65.000000         68.000000   \n",
       "max        97.000000      95.000000      97.000000         98.000000   \n",
       "\n",
       "       short_passing        volleys  ...         vision      penalties  \\\n",
       "count  183142.000000  181265.000000  ...  181265.000000  183142.000000   \n",
       "mean       62.429672      49.468436  ...      57.873550      55.003986   \n",
       "std        14.194068      18.256618  ...      15.144086      15.546519   \n",
       "min         3.000000       1.000000  ...       1.000000       2.000000   \n",
       "25%        57.000000      35.000000  ...      49.000000      45.000000   \n",
       "50%        65.000000      52.000000  ...      60.000000      57.000000   \n",
       "75%        72.000000      64.000000  ...      69.000000      67.000000   \n",
       "max        97.000000      93.000000  ...      97.000000      96.000000   \n",
       "\n",
       "             marking  standing_tackle  sliding_tackle      gk_diving  \\\n",
       "count  183142.000000    183142.000000   181265.000000  183142.000000   \n",
       "mean       46.772242        50.351257       48.001462      14.704393   \n",
       "std        21.227667        21.483706       21.598778      16.865467   \n",
       "min         1.000000         1.000000        2.000000       1.000000   \n",
       "25%        25.000000        29.000000       25.000000       7.000000   \n",
       "50%        50.000000        56.000000       53.000000      10.000000   \n",
       "75%        66.000000        69.000000       67.000000      13.000000   \n",
       "max        96.000000        95.000000       95.000000      94.000000   \n",
       "\n",
       "         gk_handling     gk_kicking  gk_positioning    gk_reflexes  \n",
       "count  183142.000000  183142.000000   183142.000000  183142.000000  \n",
       "mean       16.063612      20.998362       16.132154      16.441439  \n",
       "std        15.867382      21.452980       16.099175      17.198155  \n",
       "min         1.000000       1.000000        1.000000       1.000000  \n",
       "25%         8.000000       8.000000        8.000000       8.000000  \n",
       "50%        11.000000      12.000000       11.000000      11.000000  \n",
       "75%        15.000000      15.000000       15.000000      15.000000  \n",
       "max        93.000000      97.000000       96.000000      96.000000  \n",
       "\n",
       "[8 rows x 38 columns]"
      ]
     },
     "execution_count": 6,
     "metadata": {},
     "output_type": "execute_result"
    }
   ],
   "source": [
    "#DO NOT MODIFY\n",
    "\n",
    "# Let's see what is in our dataset\n",
    "df.describe()"
   ]
  },
  {
   "cell_type": "code",
   "execution_count": 7,
   "metadata": {},
   "outputs": [
    {
     "data": {
      "text/plain": [
       "Index(['id', 'player_fifa_api_id', 'player_api_id', 'date', 'overall_rating',\n",
       "       'potential', 'preferred_foot', 'attacking_work_rate',\n",
       "       'defensive_work_rate', 'crossing', 'finishing', 'heading_accuracy',\n",
       "       'short_passing', 'volleys', 'dribbling', 'curve', 'free_kick_accuracy',\n",
       "       'long_passing', 'ball_control', 'acceleration', 'sprint_speed',\n",
       "       'agility', 'reactions', 'balance', 'shot_power', 'jumping', 'stamina',\n",
       "       'strength', 'long_shots', 'aggression', 'interceptions', 'positioning',\n",
       "       'vision', 'penalties', 'marking', 'standing_tackle', 'sliding_tackle',\n",
       "       'gk_diving', 'gk_handling', 'gk_kicking', 'gk_positioning',\n",
       "       'gk_reflexes'],\n",
       "      dtype='object')"
      ]
     },
     "execution_count": 7,
     "metadata": {},
     "output_type": "execute_result"
    }
   ],
   "source": [
    "df.columns"
   ]
  },
  {
   "cell_type": "markdown",
   "metadata": {
    "nbgrader": {
     "grade": false,
     "grade_id": "c445c",
     "locked": true,
     "schema_version": 1,
     "solution": false
    }
   },
   "source": [
    "<p style=\"font-family: Arial; font-size:2.75vw;color:purple; font-style:bold\"><br>\n",
    "\n",
    "Exercise 1: Line Plot<br><br></p>\n",
    "\n",
    "\n",
    "In the cell below, modify the function to plot x vs y, where x and y \n",
    "are column names of dataframe (df) which is also entered as input to the function. The function should\n",
    "\n",
    "- First sort the dataframe by the column 'x'\n",
    "- Take the first 50 rows for plotting (discard the remaining)\n",
    "- Provide a title\n",
    "- Label x and y axes"
   ]
  },
  {
   "cell_type": "code",
   "execution_count": 14,
   "metadata": {
    "nbgrader": {
     "grade": false,
     "grade_id": "c555",
     "locked": false,
     "schema_version": 1,
     "solution": true
    }
   },
   "outputs": [],
   "source": [
    "# modify this cell\n",
    "\n",
    "def line_plot(df, x, y):\n",
    "    ### BEGIN SOLUTION\n",
    "    sorted_df = df.sort_values(by=x,ascending=True)\n",
    "    \n",
    "    plt.plot(sorted_df[x][:50],sorted_df[y][:50])\n",
    "    \n",
    "    plt.xlabel(x)\n",
    "    plt.ylabel(y)\n",
    "\n",
    "    # Nombrar la grafica\n",
    "    plt.title(f'{x} vs {y}')\n",
    "    plt.show\n",
    "    ### END SOLUTION"
   ]
  },
  {
   "cell_type": "code",
   "execution_count": 15,
   "metadata": {
    "nbgrader": {
     "grade": true,
     "grade_id": "ex15",
     "locked": true,
     "points": 1,
     "schema_version": 1,
     "solution": false
    }
   },
   "outputs": [
    {
     "data": {
      "image/png": "[encoded data removed]",
      "text/plain": [
       "<Figure size 640x480 with 1 Axes>"
      ]
     },
     "metadata": {},
     "output_type": "display_data"
    }
   ],
   "source": [
    "# DO NOT MODIFY\n",
    "\n",
    "# your function should give a plot similar to the following:\n",
    "line_plot(df, 'potential', 'overall_rating')"
   ]
  },
  {
   "cell_type": "markdown",
   "metadata": {
    "nbgrader": {
     "grade": false,
     "grade_id": "sol1",
     "locked": true,
     "schema_version": 1,
     "solution": false
    }
   },
   "source": [
    "Your solution to Exercise 1 should look like this:\n",
    "![plot1.png](attachment:plot1.png)"
   ]
  },
  {
   "cell_type": "markdown",
   "metadata": {
    "nbgrader": {
     "grade": false,
     "grade_id": "cc445",
     "locked": true,
     "schema_version": 1,
     "solution": false
    }
   },
   "source": [
    "<p style=\"font-family: Arial; font-size:2.75vw;color:purple; font-style:bold\"><br>\n",
    "\n",
    "Exercise 2: Histogram <br><br></p>\n",
    "\n",
    "\n",
    "In the cell below, modify the function to plot a histogram. The function should take an input parameter X which is a column name of the dataframe df, also passed to the function. Be sure to drop NULL values before you plot the histogram."
   ]
  },
  {
   "cell_type": "code",
   "execution_count": 18,
   "metadata": {},
   "outputs": [
    {
     "data": {
      "text/plain": [
       "False"
      ]
     },
     "execution_count": 18,
     "metadata": {},
     "output_type": "execute_result"
    }
   ],
   "source": [
    ".isnull().all()"
   ]
  },
  {
   "cell_type": "code",
   "execution_count": 19,
   "metadata": {},
   "outputs": [
    {
     "data": {
      "text/plain": [
       "False"
      ]
     },
     "execution_count": 19,
     "metadata": {},
     "output_type": "execute_result"
    }
   ],
   "source": [
    "y = df.dropna()\n",
    "y.overall_rating.isnull().any()"
   ]
  },
  {
   "cell_type": "code",
   "execution_count": 26,
   "metadata": {
    "nbgrader": {
     "grade": false,
     "grade_id": "5551",
     "locked": false,
     "schema_version": 1,
     "solution": true
    }
   },
   "outputs": [],
   "source": [
    "# modify this cell\n",
    "\n",
    "def plot_histogram(df, X):\n",
    "    ### BEGIN SOLUTION\n",
    "    cleaned_data = df[X].dropna()\n",
    "    \n",
    "    plt.hist(cleaned_data)\n",
    "    \n",
    "    plt.xlabel(X)\n",
    "    plt.ylabel(\"# of players\")\n",
    "    plt.title(f'Histogram of {X}')\n",
    "    plt.grid(True)\n",
    "    plt.show()\n",
    "    ### END SOLUTION"
   ]
  },
  {
   "cell_type": "code",
   "execution_count": 27,
   "metadata": {
    "nbgrader": {
     "grade": true,
     "grade_id": "ex151",
     "locked": true,
     "points": 1,
     "schema_version": 1,
     "solution": false
    }
   },
   "outputs": [
    {
     "data": {
      "image/png": "[encoded data removed]",
      "text/plain": [
       "<Figure size 640x480 with 1 Axes>"
      ]
     },
     "metadata": {},
     "output_type": "display_data"
    }
   ],
   "source": [
    "# DO NOT MODIFY\n",
    "\n",
    "# your plot should look similar to the following:\n",
    "plot_histogram(df, 'overall_rating')"
   ]
  },
  {
   "cell_type": "markdown",
   "metadata": {
    "nbgrader": {
     "grade": false,
     "grade_id": "sol2",
     "locked": true,
     "schema_version": 1,
     "solution": false
    }
   },
   "source": [
    "Your solution for Exercise 2 should look like this:\n",
    "![plot2.png](attachment:plot2.png)"
   ]
  },
  {
   "cell_type": "markdown",
   "metadata": {
    "nbgrader": {
     "grade": false,
     "grade_id": "cccc445",
     "locked": true,
     "schema_version": 1,
     "solution": false
    }
   },
   "source": [
    "<p style=\"font-family: Arial; font-size:2.75vw;color:purple; font-style:bold\"><br>\n",
    "\n",
    "Exercise 3: Scatter Plot<br><br></p>\n",
    "\n",
    "In the cell below, modify the function to plot..."
   ]
  },
  {
   "cell_type": "code",
   "execution_count": 32,
   "metadata": {
    "nbgrader": {
     "grade": false,
     "grade_id": "c5552",
     "locked": false,
     "schema_version": 1,
     "solution": true
    }
   },
   "outputs": [],
   "source": [
    "# modify this cell\n",
    "\n",
    "def plot_scatter(df, x, y):\n",
    "    ### BEGIN SOLUTION\n",
    "    cleaned_data2 = df.dropna()\n",
    "    \n",
    "    fig, axis = plt.subplots()\n",
    "    axis.set_title('Scatter Plot')\n",
    "    axis.set_xlabel(x)\n",
    "    axis.set_ylabel(y)\n",
    "    axis.yaxis.grid(True)\n",
    "    \n",
    "    axis.scatter(df[x],df[y])\n",
    "    plt.show()\n",
    "    \n",
    "    ### END SOLUTION"
   ]
  },
  {
   "cell_type": "code",
   "execution_count": 33,
   "metadata": {
    "nbgrader": {
     "grade": true,
     "grade_id": "ex152",
     "locked": true,
     "points": 1,
     "schema_version": 1,
     "solution": false
    }
   },
   "outputs": [
    {
     "data": {
      "image/png": "[encoded data removed]",
      "text/plain": [
       "<Figure size 640x480 with 1 Axes>"
      ]
     },
     "metadata": {},
     "output_type": "display_data"
    }
   ],
   "source": [
    "# DO NOT MODIFY\n",
    "\n",
    "# your plot should look similar to the following:\n",
    "plot_scatter(df, 'gk_diving', 'gk_handling')"
   ]
  },
  {
   "cell_type": "markdown",
   "metadata": {
    "collapsed": true,
    "nbgrader": {
     "grade": false,
     "grade_id": "sol3",
     "locked": true,
     "schema_version": 1,
     "solution": false
    }
   },
   "source": [
    "Your solution to Excercise 3 should look like this:\n",
    "![plot3.png](attachment:plot3.png)"
   ]
  }
 ],
 "metadata": {
  "celltoolbar": "Create Assignment",
  "kernelspec": {
   "display_name": "Python 3 (ipykernel)",
   "language": "python",
   "name": "python3"
  },
  "language_info": {
   "codemirror_mode": {
    "name": "ipython",
    "version": 3
   },
   "file_extension": ".py",
   "mimetype": "text/x-python",
   "name": "python",
   "nbconvert_exporter": "python",
   "pygments_lexer": "ipython3",
   "version": "3.9.7"
  }
 },
 "nbformat": 4,
 "nbformat_minor": 2
}
