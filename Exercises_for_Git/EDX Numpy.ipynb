{
 "cells": [
  {
   "cell_type": "code",
   "execution_count": 2,
   "id": "7c15ac1d",
   "metadata": {},
   "outputs": [
    {
     "name": "stdout",
     "output_type": "stream",
     "text": [
      "<class 'numpy.ndarray'>\n"
     ]
    }
   ],
   "source": [
    "import numpy as np\n",
    "\n",
    "an_array  =  np.array([3,33,333])\n",
    "print(type(an_array))"
   ]
  },
  {
   "cell_type": "code",
   "execution_count": 2,
   "id": "b68bbf13",
   "metadata": {},
   "outputs": [
    {
     "data": {
      "text/plain": [
       "(3,)"
      ]
     },
     "execution_count": 2,
     "metadata": {},
     "output_type": "execute_result"
    }
   ],
   "source": [
    "an_array.shape"
   ]
  },
  {
   "cell_type": "code",
   "execution_count": 3,
   "id": "5bd3387d",
   "metadata": {},
   "outputs": [
    {
     "name": "stdout",
     "output_type": "stream",
     "text": [
      "3 33 333\n"
     ]
    }
   ],
   "source": [
    "print(an_array[0],an_array[1],an_array[2])"
   ]
  },
  {
   "cell_type": "code",
   "execution_count": 5,
   "id": "88907bc3",
   "metadata": {},
   "outputs": [
    {
     "name": "stdout",
     "output_type": "stream",
     "text": [
      "[888  33 333]\n"
     ]
    }
   ],
   "source": [
    "an_array[0]=888\n",
    "print(an_array)"
   ]
  },
  {
   "cell_type": "markdown",
   "id": "333bcea3",
   "metadata": {},
   "source": [
    "### Como crear un numpy array"
   ]
  },
  {
   "cell_type": "code",
   "execution_count": 7,
   "id": "2fa191bf",
   "metadata": {},
   "outputs": [
    {
     "name": "stdout",
     "output_type": "stream",
     "text": [
      "[[11 12 13]\n",
      " [21 22 23]]\n",
      "El shape es de 2 filas y 3 columnas (2, 3)\n",
      "Accesando a los elementos [0,0], [0,1], [1,0] del array (11, 12, 21)\n"
     ]
    }
   ],
   "source": [
    "another = np.array([[11,12,13] , [21,22,23]])\n",
    "print(another)\n",
    "\n",
    "print(f'El shape es de 2 filas y 3 columnas {another.shape}')\n",
    "print(f'Accesando a los elementos [0,0], [0,1], [1,0] del array {another[0,0], another[0,1], another[1,0]}')"
   ]
  },
  {
   "cell_type": "markdown",
   "id": "db94fcc8",
   "metadata": {},
   "source": [
    "### Mas formas de crear un array"
   ]
  },
  {
   "cell_type": "code",
   "execution_count": 16,
   "id": "30e4c387",
   "metadata": {},
   "outputs": [
    {
     "name": "stdout",
     "output_type": "stream",
     "text": [
      "Matriz de ceros [[0. 0.]\n",
      " [0. 0.]] \n",
      " \n",
      " Matriz diagonal [[1. 0.]\n",
      " [0. 1.]] \n",
      "\n",
      " \n",
      " Matriz de unos [[1. 1.]] \n",
      " \n",
      " Matriz de nueves [[9. 9.]\n",
      " [9. 9.]] \n",
      "\n",
      " \n",
      " Matriz random [[0.52198015 0.51077785]\n",
      " [0.41516742 0.18659166]]\n"
     ]
    }
   ],
   "source": [
    "# Array de 2 columnas y 2 filas de puro 0\n",
    "ex2 = np.zeros((2,2))\n",
    "\n",
    "# Crea matriz diagonal de 1 de 2x2\n",
    "ex3 = np.eye(2,2)\n",
    "\n",
    "# Crea un array de unos\n",
    "ex4 = np.ones((1,2))\n",
    "\n",
    "# Crea un array de 2x2 lleno de 1 numero\n",
    "ex4_1 = np.full((2,2), 9.0) \n",
    "\n",
    "# Crea un array con floats entre 0 y 1\n",
    "ex5 = np.random.random((2,2))\n",
    "\n",
    "print('Matriz de ceros',ex2,'\\n \\n Matriz diagonal',ex3,'''\n",
    "\\n \\n Matriz de unos''',ex4,'''\\n \\n Matriz de nueves''',ex4_1,'''\n",
    "\\n \\n Matriz random''',ex5)"
   ]
  },
  {
   "cell_type": "markdown",
   "id": "f51ca5f3",
   "metadata": {},
   "source": [
    "### Slicing"
   ]
  },
  {
   "cell_type": "code",
   "execution_count": 22,
   "id": "c7703088",
   "metadata": {},
   "outputs": [
    {
     "name": "stdout",
     "output_type": "stream",
     "text": [
      "Este es el array \n",
      "\n",
      "[[11 12 13 14]\n",
      " [21 22 23 24]\n",
      " [31 32 33 34]] \n",
      "\n",
      "y este es el  slicing del array \n",
      "\n",
      "[[12 13]\n",
      " [22 23]]\n"
     ]
    }
   ],
   "source": [
    "# Slicing se ubica por filas y luego columnas\n",
    "\n",
    "an_array2  =  np.array([[11,12,13,14], [21,22,23,24], [31,32,33,34]])\n",
    "print(f'''Este es el array \\n\n",
    "{an_array2} \\n\n",
    "y este es el  slicing del array \\n\n",
    "{an_array2[:2,1:3]}''')"
   ]
  },
  {
   "cell_type": "code",
   "execution_count": 23,
   "id": "a4e6a6c9",
   "metadata": {},
   "outputs": [
    {
     "name": "stdout",
     "output_type": "stream",
     "text": [
      "El valor anterior del array es :12\n",
      "El nuevo valor del array es :1000\n"
     ]
    }
   ],
   "source": [
    "# Slicing\n",
    "a_slice= an_array2[:2,1:3]\n",
    "\n",
    "print(f'El valor anterior del array es :{an_array2[0,1]}')\n",
    "\n",
    "# Puedes cambiar el valor de un dato en el array a partir del index del slicing\n",
    "a_slice[0,0] = 1000\n",
    "print(f'El nuevo valor del array es :{an_array2[0,1]}')"
   ]
  },
  {
   "cell_type": "code",
   "execution_count": 25,
   "id": "3bc53f83",
   "metadata": {},
   "outputs": [
    {
     "name": "stdout",
     "output_type": "stream",
     "text": [
      "El valor anterior del array es :1000\n",
      "El nuevo valor del array es :1000\n"
     ]
    }
   ],
   "source": [
    "# Aplicando un array al Slicing \n",
    "a_slice2= np.array(an_array2[:2,1:3])\n",
    "\n",
    "print(f'El valor anterior del array es :{an_array2[0,1]}')\n",
    "\n",
    "# Esto ya es otro array, por lo que no se va a modificar la data\n",
    "a_slice2[0,0] = 12\n",
    "print(f'El nuevo valor del array es :{an_array2[0,1]}')"
   ]
  },
  {
   "cell_type": "markdown",
   "id": "03cab504",
   "metadata": {},
   "source": [
    "### Slicing y shape"
   ]
  },
  {
   "cell_type": "code",
   "execution_count": 26,
   "id": "9c34c997",
   "metadata": {},
   "outputs": [
    {
     "name": "stdout",
     "output_type": "stream",
     "text": [
      "[21 22 23 24] (4,)\n",
      "[[21 22 23 24]] (1, 4)\n"
     ]
    }
   ],
   "source": [
    "# Es 1 lista, por lo que se guarda como 1 sola columna con varias filas\n",
    "row_rank1 = an_array2[1,:]\n",
    "print(row_rank1,row_rank1.shape)\n",
    "\n",
    "# Cuenta como una matriz, por lo que el shape cambia a filas y columnas\n",
    "row_rank2 = an_array2[1:2,:]\n",
    "print(row_rank2,row_rank2.shape)"
   ]
  },
  {
   "cell_type": "markdown",
   "id": "d4535a19",
   "metadata": {},
   "source": [
    "### Crear Slicing por indices"
   ]
  },
  {
   "cell_type": "code",
   "execution_count": 30,
   "id": "79669685",
   "metadata": {},
   "outputs": [
    {
     "name": "stdout",
     "output_type": "stream",
     "text": [
      "[0 1 2 0] [0 1 2 3]\n"
     ]
    }
   ],
   "source": [
    "an_array3 = np.array([[11,12,13], [21,22,23], [31,32,33],[41,42,43]])\n",
    "\n",
    "# Indices de columnas\n",
    "col_indices = np.array([0,1,2,0])\n",
    "\n",
    "# Indices de filas\n",
    "row_indices = np.arange(4)\n",
    "\n",
    "print(col_indices,row_indices)"
   ]
  },
  {
   "cell_type": "code",
   "execution_count": 28,
   "id": "e95d9e41",
   "metadata": {},
   "outputs": [
    {
     "name": "stdout",
     "output_type": "stream",
     "text": [
      "0 , 0\n",
      "1 , 1\n",
      "2 , 2\n",
      "3 , 0\n"
     ]
    }
   ],
   "source": [
    "# Zipeamos ambos indices e iteramos en la tupla\n",
    "for row, col in zip(row_indices,col_indices):\n",
    "    print(row, ',',col)"
   ]
  },
  {
   "cell_type": "code",
   "execution_count": 31,
   "id": "1a41ebf7",
   "metadata": {},
   "outputs": [
    {
     "name": "stdout",
     "output_type": "stream",
     "text": [
      "Estos son los valores de los indices anteriores[11 22 33 41]\n"
     ]
    }
   ],
   "source": [
    "# Podemos llamar los valores de una lista de indices\n",
    "print(f'Estos son los valores de los indices anteriores{an_array3[row_indices,col_indices]}')"
   ]
  },
  {
   "cell_type": "code",
   "execution_count": 37,
   "id": "68787768",
   "metadata": {},
   "outputs": [
    {
     "name": "stdout",
     "output_type": "stream",
     "text": [
      "Nuevo array por indices \n",
      "[[1011   12   13]\n",
      " [  21 1022   23]\n",
      " [  31   32 1033]\n",
      " [1041   42   43]]\n"
     ]
    }
   ],
   "source": [
    "# Vamos a sumar 1000 a cada uno de esos valores en el array original\n",
    "an_array3[row_indices,col_indices]+=1000\n",
    "\n",
    "print(f'Nuevo array por indices \\n{an_array3}')"
   ]
  },
  {
   "cell_type": "markdown",
   "id": "1fc44704",
   "metadata": {},
   "source": [
    "### Booleanos"
   ]
  },
  {
   "cell_type": "code",
   "execution_count": 55,
   "id": "87aeccb9",
   "metadata": {},
   "outputs": [
    {
     "data": {
      "text/plain": [
       "array([[False, False],\n",
       "       [ True,  True],\n",
       "       [ True,  True]])"
      ]
     },
     "execution_count": 55,
     "metadata": {},
     "output_type": "execute_result"
    }
   ],
   "source": [
    "# Puedes filtrar y generar booleanos  \n",
    "an_array4 = np.array([[11,12], [21,22], [31,32]])\n",
    "an_array4 > 15\n"
   ]
  },
  {
   "cell_type": "code",
   "execution_count": 58,
   "id": "5d250f96",
   "metadata": {},
   "outputs": [
    {
     "name": "stdout",
     "output_type": "stream",
     "text": [
      "[21 22 31 32]\n",
      "[12 22 32]\n"
     ]
    }
   ],
   "source": [
    "# Podemos usar los booleanos como indices para filtrar datos a traves de true\n",
    "print(an_array4[an_array4 > 15])\n",
    "\n",
    "print(an_array4[an_array4 % 2 == 0])"
   ]
  },
  {
   "cell_type": "code",
   "execution_count": 57,
   "id": "e01efd0b",
   "metadata": {},
   "outputs": [
    {
     "data": {
      "text/plain": [
       "array([21, 22])"
      ]
     },
     "execution_count": 57,
     "metadata": {},
     "output_type": "execute_result"
    }
   ],
   "source": [
    "# Varios filtros\n",
    "an_array4[(an_array4 > 20) & (an_array4 < 30)] \n"
   ]
  },
  {
   "cell_type": "code",
   "execution_count": 59,
   "id": "b4bb66c4",
   "metadata": {},
   "outputs": [
    {
     "name": "stdout",
     "output_type": "stream",
     "text": [
      "[[ 11 112]\n",
      " [ 21 122]\n",
      " [ 31 132]]\n"
     ]
    }
   ],
   "source": [
    "an_array4[an_array4 % 2 == 0] += 100\n",
    "print(an_array4)"
   ]
  },
  {
   "cell_type": "markdown",
   "id": "3d328abd",
   "metadata": {},
   "source": [
    "### Tipos de datos"
   ]
  },
  {
   "cell_type": "code",
   "execution_count": 60,
   "id": "6aece523",
   "metadata": {},
   "outputs": [
    {
     "name": "stdout",
     "output_type": "stream",
     "text": [
      "int32\n",
      "float64\n"
     ]
    }
   ],
   "source": [
    "ex6 = np.array([11,12])\n",
    "print(ex6.dtype)\n",
    "\n",
    "ex7 = np.array([11.0,12.0])\n",
    "print(ex7.dtype)"
   ]
  },
  {
   "cell_type": "code",
   "execution_count": 61,
   "id": "baa67231",
   "metadata": {},
   "outputs": [
    {
     "name": "stdout",
     "output_type": "stream",
     "text": [
      "int64\n",
      "float64\n"
     ]
    }
   ],
   "source": [
    "# Puedes agregar el tipo de objeto con int64\n",
    "ex6 = np.array([11,12], dtype=np.int64)\n",
    "print(ex6.dtype)\n",
    "\n",
    "# float64\n",
    "ex6 = np.array([11,12], dtype=np.float64)\n",
    "print(ex6.dtype)\n"
   ]
  },
  {
   "cell_type": "markdown",
   "id": "4620a29f",
   "metadata": {},
   "source": [
    "### Operaciones"
   ]
  },
  {
   "cell_type": "code",
   "execution_count": 63,
   "id": "b0cf1fa5",
   "metadata": {},
   "outputs": [],
   "source": [
    "x = np.array([[111,112],[121,122]], dtype=np.int64)\n",
    "y = np.array([[211.1,212.1],[221.1,222.1]], dtype=np.float64)\n"
   ]
  },
  {
   "cell_type": "code",
   "execution_count": 65,
   "id": "5675c849",
   "metadata": {},
   "outputs": [
    {
     "name": "stdout",
     "output_type": "stream",
     "text": [
      "[[322.1 324.1]\n",
      " [342.1 344.1]] \n",
      "\n",
      " [[322.1 324.1]\n",
      " [342.1 344.1]]\n"
     ]
    }
   ],
   "source": [
    "# Suma\n",
    "print(x+y, '\\n\\n', np.add(x,y))"
   ]
  },
  {
   "cell_type": "code",
   "execution_count": 67,
   "id": "4eab53cc",
   "metadata": {},
   "outputs": [
    {
     "name": "stdout",
     "output_type": "stream",
     "text": [
      "[[-100.1 -100.1]\n",
      " [-100.1 -100.1]] \n",
      "\n",
      " [[-100.1 -100.1]\n",
      " [-100.1 -100.1]]\n"
     ]
    }
   ],
   "source": [
    "# Resta\n",
    "print(x-y, '\\n\\n', np.subtract(x,y))"
   ]
  },
  {
   "cell_type": "code",
   "execution_count": 68,
   "id": "82e9803d",
   "metadata": {},
   "outputs": [
    {
     "name": "stdout",
     "output_type": "stream",
     "text": [
      "[[23432.1 23755.2]\n",
      " [26753.1 27096.2]] \n",
      "\n",
      " [[23432.1 23755.2]\n",
      " [26753.1 27096.2]]\n"
     ]
    }
   ],
   "source": [
    "# Multiplicacion\n",
    "print(x*y, '\\n\\n', np.multiply(x,y))"
   ]
  },
  {
   "cell_type": "code",
   "execution_count": 69,
   "id": "79c887a3",
   "metadata": {},
   "outputs": [
    {
     "name": "stdout",
     "output_type": "stream",
     "text": [
      "[[0.52581715 0.52805281]\n",
      " [0.54726368 0.54930212]] \n",
      "\n",
      " [[0.52581715 0.52805281]\n",
      " [0.54726368 0.54930212]]\n"
     ]
    }
   ],
   "source": [
    "# Dividir\n",
    "print(x/y, '\\n\\n', np.divide(x,y))"
   ]
  },
  {
   "cell_type": "code",
   "execution_count": 70,
   "id": "ab695137",
   "metadata": {},
   "outputs": [
    {
     "name": "stdout",
     "output_type": "stream",
     "text": [
      "[[10.53565375 10.58300524]\n",
      " [11.         11.04536102]] \n",
      "\n",
      " [[10.53565375 10.58300524]\n",
      " [11.         11.04536102]]\n"
     ]
    }
   ],
   "source": [
    "# Raiz\n",
    "print(x**0.5, '\\n\\n', np.sqrt(x))"
   ]
  },
  {
   "cell_type": "code",
   "execution_count": 72,
   "id": "9f48f97c",
   "metadata": {},
   "outputs": [
    {
     "name": "stdout",
     "output_type": "stream",
     "text": [
      "[[1.60948707e+48 4.37503945e+48]\n",
      " [3.54513118e+52 9.63666567e+52]]\n"
     ]
    }
   ],
   "source": [
    "# Exponencial\n",
    "print(np.exp(x))"
   ]
  },
  {
   "cell_type": "markdown",
   "id": "a793e4e6",
   "metadata": {},
   "source": [
    "### Metodos estadisticos"
   ]
  },
  {
   "cell_type": "code",
   "execution_count": 3,
   "id": "27b0d389",
   "metadata": {},
   "outputs": [
    {
     "data": {
      "text/plain": [
       "array([[ -8.31642904,  -8.58611366, -20.5592389 ,  -7.33620276,\n",
       "          9.17933937],\n",
       "       [ -1.87160844, -18.42088467,   1.48122418,  -1.10258919,\n",
       "          7.95737741]])"
      ]
     },
     "execution_count": 3,
     "metadata": {},
     "output_type": "execute_result"
    }
   ],
   "source": [
    "arr = 10* np.random.randn(2,5)\n",
    "arr"
   ]
  },
  {
   "cell_type": "code",
   "execution_count": 6,
   "id": "15f806d3",
   "metadata": {},
   "outputs": [
    {
     "name": "stdout",
     "output_type": "stream",
     "text": [
      "-4.757512570607459\n",
      "[-7.123729   -2.39129614]\n",
      "[ -5.09401874 -13.50349916  -9.53900736  -4.21939598   8.56835839]\n"
     ]
    }
   ],
   "source": [
    "# promedio\n",
    "print(arr.mean())\n",
    "\n",
    "# promedio por fila\n",
    "print(arr.mean(axis=1))\n",
    "\n",
    "# promedio por columna\n",
    "print(arr.mean(axis=0))"
   ]
  },
  {
   "cell_type": "code",
   "execution_count": 8,
   "id": "6a2dc0fc",
   "metadata": {},
   "outputs": [
    {
     "data": {
      "text/plain": [
       "-47.575125706074594"
      ]
     },
     "execution_count": 8,
     "metadata": {},
     "output_type": "execute_result"
    }
   ],
   "source": [
    "# suma todos los elementos\n",
    "arr.sum()"
   ]
  },
  {
   "cell_type": "code",
   "execution_count": 9,
   "id": "5313cd04",
   "metadata": {},
   "outputs": [
    {
     "name": "stdout",
     "output_type": "stream",
     "text": [
      "[-8.31642904 -1.10258919]\n"
     ]
    }
   ],
   "source": [
    "# mediana por filas\n",
    "print(np.median(arr, axis=1))"
   ]
  },
  {
   "cell_type": "markdown",
   "id": "50c013f0",
   "metadata": {},
   "source": [
    "### Sorted"
   ]
  },
  {
   "cell_type": "code",
   "execution_count": 11,
   "id": "10d122ca",
   "metadata": {},
   "outputs": [
    {
     "data": {
      "text/plain": [
       "array([ 0.88801873, -1.63211814,  1.83244941, -2.06280944,  2.43577799,\n",
       "       -0.05518903,  0.90689346, -0.89420662, -0.51684258, -2.28033645])"
      ]
     },
     "execution_count": 11,
     "metadata": {},
     "output_type": "execute_result"
    }
   ],
   "source": [
    "unsorted = np.random.randn(10)\n",
    "unsorted"
   ]
  },
  {
   "cell_type": "code",
   "execution_count": 15,
   "id": "c8ff98bd",
   "metadata": {},
   "outputs": [
    {
     "name": "stdout",
     "output_type": "stream",
     "text": [
      "[ 0.88801873 -1.63211814  1.83244941 -2.06280944  2.43577799 -0.05518903\n",
      "  0.90689346 -0.89420662 -0.51684258 -2.28033645] \n",
      "\n",
      " [-2.28033645 -2.06280944 -1.63211814 -0.89420662 -0.51684258 -0.05518903\n",
      "  0.88801873  0.90689346  1.83244941  2.43577799]\n"
     ]
    }
   ],
   "source": [
    "# crear una copia del array y sortealo\n",
    "sorted_arr = np.array(unsorted)\n",
    "sorted_arr.sort()\n",
    "\n",
    "print(unsorted, '\\n\\n', sorted_arr)"
   ]
  },
  {
   "cell_type": "markdown",
   "id": "69390a70",
   "metadata": {},
   "source": [
    "### Unique"
   ]
  },
  {
   "cell_type": "code",
   "execution_count": 17,
   "id": "b63e116a",
   "metadata": {},
   "outputs": [
    {
     "name": "stdout",
     "output_type": "stream",
     "text": [
      "[1 2 4]\n"
     ]
    }
   ],
   "source": [
    "# Solo devuelve los valores unicos \n",
    "array = np.array([1,2,1,4,2,1,4,2])\n",
    "print(np.unique(array))"
   ]
  },
  {
   "cell_type": "markdown",
   "id": "15b48a6f",
   "metadata": {},
   "source": [
    "### Operaciones con tipos de datos"
   ]
  },
  {
   "cell_type": "code",
   "execution_count": 18,
   "id": "af04eb10",
   "metadata": {},
   "outputs": [],
   "source": [
    "s1 = np.array(['desk','chair','bulb'])\n",
    "s2 = np.array(['lamp','bulb','chair'])"
   ]
  },
  {
   "cell_type": "code",
   "execution_count": 20,
   "id": "13282ec7",
   "metadata": {},
   "outputs": [
    {
     "name": "stdout",
     "output_type": "stream",
     "text": [
      "['bulb' 'chair']\n",
      "['bulb' 'chair' 'desk' 'lamp']\n",
      "['desk']\n",
      "[False  True  True]\n"
     ]
    }
   ],
   "source": [
    "# Operacion de interseccion 1D\n",
    "print(np.intersect1d(s1,s2))\n",
    "\n",
    "# Operacion de union 1D\n",
    "print(np.union1d(s1,s2))\n",
    "\n",
    "# Operacion de exclusion. Elementos del 1er conjunto que no estan en el 2do\n",
    "print(np.setdiff1d(s1,s2))\n",
    "\n",
    "# Operacion booleana. True para elementos del 1er conjunto que estan en el 2do\n",
    "print(np.in1d(s1,s2))"
   ]
  },
  {
   "cell_type": "markdown",
   "id": "8304d812",
   "metadata": {},
   "source": [
    "### Broadcasting"
   ]
  },
  {
   "cell_type": "code",
   "execution_count": 27,
   "id": "ac10d245",
   "metadata": {},
   "outputs": [
    {
     "name": "stdout",
     "output_type": "stream",
     "text": [
      "[[1. 0. 2.]\n",
      " [1. 0. 2.]\n",
      " [1. 0. 2.]\n",
      " [1. 0. 2.]]\n"
     ]
    }
   ],
   "source": [
    "# Matriz 4x3 de ceros\n",
    "start = np.zeros((4,3))\n",
    "\n",
    "# Matris 1x3\n",
    "add_rows = np.array([1,0,2])\n",
    "\n",
    "# Suma de arreglos\n",
    "print(start + add_rows)\n"
   ]
  },
  {
   "cell_type": "code",
   "execution_count": 25,
   "id": "b3d9ba42",
   "metadata": {},
   "outputs": [
    {
     "name": "stdout",
     "output_type": "stream",
     "text": [
      "[[1. 1. 1.]\n",
      " [1. 1. 1.]\n",
      " [1. 1. 1.]\n",
      " [1. 1. 1.]]\n"
     ]
    }
   ],
   "source": [
    "# Define un escalar\n",
    "add_scalar = np.array([1])\n",
    "\n",
    "# Suma un escalar\n",
    "print(start + add_scalar)\n"
   ]
  },
  {
   "cell_type": "code",
   "execution_count": 31,
   "id": "c0327db3",
   "metadata": {},
   "outputs": [
    {
     "name": "stdout",
     "output_type": "stream",
     "text": [
      "[[0. 0. 0.]\n",
      " [1. 1. 1.]\n",
      " [2. 2. 2.]\n",
      " [3. 3. 3.]]\n"
     ]
    }
   ],
   "source": [
    "# Arreglo 1 fila\n",
    "add_cols = np.array([[0,1,2,3]])\n",
    "\n",
    "# Suma de columna\n",
    "print(start + add_cols.T)\n"
   ]
  },
  {
   "cell_type": "markdown",
   "id": "6769b572",
   "metadata": {},
   "source": [
    "### Speed Test"
   ]
  },
  {
   "cell_type": "code",
   "execution_count": 41,
   "id": "656a9619",
   "metadata": {},
   "outputs": [
    {
     "name": "stdout",
     "output_type": "stream",
     "text": [
      "<class 'numpy.ndarray'>\n",
      "Time taken by numpy ndarray: 0.000359 seconds\n"
     ]
    }
   ],
   "source": [
    "from numpy import arange\n",
    "from timeit import Timer\n",
    "\n",
    "size    = 1000000\n",
    "timeits = 1000\n",
    "\n",
    "# create the ndarray with values 0,1,2...,size-1\n",
    "nd_array = arange(size)\n",
    "print( type(nd_array) )\n",
    "\n",
    "# timer expects the operation as a parameter, \n",
    "# here we pass nd_array.sum()\n",
    "timer_numpy = Timer(\"nd_array.sum()\", \"from __main__ import nd_array\")\n",
    "\n",
    "print(\"Time taken by numpy ndarray: %f seconds\" % \n",
    "      (timer_numpy.timeit(timeits)/timeits))"
   ]
  },
  {
   "cell_type": "code",
   "execution_count": 40,
   "id": "71c11173",
   "metadata": {},
   "outputs": [
    {
     "name": "stdout",
     "output_type": "stream",
     "text": [
      "<class 'list'>\n",
      "Time taken by list:  0.021096 seconds\n"
     ]
    }
   ],
   "source": [
    "# Crea una lista en vez de un array\n",
    "a_list = list(range(size))\n",
    "print (type(a_list) )\n",
    "\n",
    "# timer expects the operation as a parameter, here we pass sum(a_list)\n",
    "timer_list = Timer(\"sum(a_list)\", \"from __main__ import a_list\")\n",
    "\n",
    "print(\"Time taken by list:  %f seconds\" % \n",
    "      (timer_list.timeit(timeits)/timeits))"
   ]
  },
  {
   "cell_type": "markdown",
   "id": "d0bc6a68",
   "metadata": {},
   "source": [
    "### Ejemplo"
   ]
  },
  {
   "cell_type": "code",
   "execution_count": 3,
   "id": "c77e3cc2",
   "metadata": {},
   "outputs": [
    {
     "name": "stdout",
     "output_type": "stream",
     "text": [
      "[[1 2]] [[1 2]] [1 2] [1 2]\n"
     ]
    }
   ],
   "source": [
    "an_array = np.array([[1,2,3,4], [5,6,7,8], [9,10,11,12]])\n",
    "\n",
    "print(an_array[0:1,0:2],  an_array[:1,:2],  an_array[0,:-2],  an_array[-3,:2])"
   ]
  },
  {
   "cell_type": "code",
   "execution_count": null,
   "id": "56f8d488",
   "metadata": {},
   "outputs": [],
   "source": []
  }
 ],
 "metadata": {
  "kernelspec": {
   "display_name": "Python 3 (ipykernel)",
   "language": "python",
   "name": "python3"
  },
  "language_info": {
   "codemirror_mode": {
    "name": "ipython",
    "version": 3
   },
   "file_extension": ".py",
   "mimetype": "text/x-python",
   "name": "python",
   "nbconvert_exporter": "python",
   "pygments_lexer": "ipython3",
   "version": "3.9.7"
  }
 },
 "nbformat": 4,
 "nbformat_minor": 5
}
